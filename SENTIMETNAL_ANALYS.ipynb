{
  "nbformat": 4,
  "nbformat_minor": 0,
  "metadata": {
    "colab": {
      "name": "SENTIMETNAL ANALYS.ipynb",
      "version": "0.3.2",
      "provenance": [],
      "include_colab_link": true
    },
    "kernelspec": {
      "name": "python3",
      "display_name": "Python 3"
    }
  },
  "cells": [
    {
      "cell_type": "markdown",
      "metadata": {
        "id": "view-in-github",
        "colab_type": "text"
      },
      "source": [
        "<a href=\"https://colab.research.google.com/github/raajprakash/bashcode/blob/master/SENTIMETNAL_ANALYS.ipynb\" target=\"_parent\"><img src=\"https://colab.research.google.com/assets/colab-badge.svg\" alt=\"Open In Colab\"/></a>"
      ]
    },
    {
      "cell_type": "code",
      "metadata": {
        "id": "I9ibW7jFfY-E",
        "colab_type": "code",
        "colab": {}
      },
      "source": [
        "!git"
      ],
      "execution_count": 0,
      "outputs": []
    },
    {
      "cell_type": "code",
      "metadata": {
        "id": "tzuaJAGKcIKK",
        "colab_type": "code",
        "outputId": "66a4b505-1dd5-49fe-eb64-b0cad15c9291",
        "colab": {
          "base_uri": "https://localhost:8080/",
          "height": 302
        }
      },
      "source": [
        "!pip install pandas\n",
        "!pip install tweetpy\n",
        "!pip install vaderSentiment"
      ],
      "execution_count": 0,
      "outputs": [
        {
          "output_type": "stream",
          "text": [
            "Requirement already satisfied: pandas in /usr/local/lib/python3.6/dist-packages (0.24.2)\n",
            "Requirement already satisfied: python-dateutil>=2.5.0 in /usr/local/lib/python3.6/dist-packages (from pandas) (2.5.3)\n",
            "Requirement already satisfied: numpy>=1.12.0 in /usr/local/lib/python3.6/dist-packages (from pandas) (1.16.4)\n",
            "Requirement already satisfied: pytz>=2011k in /usr/local/lib/python3.6/dist-packages (from pandas) (2018.9)\n",
            "Requirement already satisfied: six>=1.5 in /usr/local/lib/python3.6/dist-packages (from python-dateutil>=2.5.0->pandas) (1.12.0)\n",
            "Requirement already satisfied: tweetpy in /usr/local/lib/python3.6/dist-packages (0.1)\n",
            "Requirement already satisfied: requests-oauthlib in /usr/local/lib/python3.6/dist-packages (from tweetpy) (1.2.0)\n",
            "Requirement already satisfied: requests>=2.0.0 in /usr/local/lib/python3.6/dist-packages (from requests-oauthlib->tweetpy) (2.21.0)\n",
            "Requirement already satisfied: oauthlib>=3.0.0 in /usr/local/lib/python3.6/dist-packages (from requests-oauthlib->tweetpy) (3.0.1)\n",
            "Requirement already satisfied: chardet<3.1.0,>=3.0.2 in /usr/local/lib/python3.6/dist-packages (from requests>=2.0.0->requests-oauthlib->tweetpy) (3.0.4)\n",
            "Requirement already satisfied: idna<2.9,>=2.5 in /usr/local/lib/python3.6/dist-packages (from requests>=2.0.0->requests-oauthlib->tweetpy) (2.8)\n",
            "Requirement already satisfied: certifi>=2017.4.17 in /usr/local/lib/python3.6/dist-packages (from requests>=2.0.0->requests-oauthlib->tweetpy) (2019.3.9)\n",
            "Requirement already satisfied: urllib3<1.25,>=1.21.1 in /usr/local/lib/python3.6/dist-packages (from requests>=2.0.0->requests-oauthlib->tweetpy) (1.24.3)\n",
            "Collecting teython\n",
            "\u001b[31m  ERROR: Could not find a version that satisfies the requirement teython (from versions: none)\u001b[0m\n",
            "\u001b[31mERROR: No matching distribution found for teython\u001b[0m\n",
            "Requirement already satisfied: vaderSentiment in /usr/local/lib/python3.6/dist-packages (3.2.1)\n"
          ],
          "name": "stdout"
        }
      ]
    },
    {
      "cell_type": "code",
      "metadata": {
        "id": "hVmQ-HwnfWly",
        "colab_type": "code",
        "colab": {}
      },
      "source": [
        ""
      ],
      "execution_count": 0,
      "outputs": []
    },
    {
      "cell_type": "code",
      "metadata": {
        "id": "qudBiBOlfVQ1",
        "colab_type": "code",
        "colab": {}
      },
      "source": [
        ""
      ],
      "execution_count": 0,
      "outputs": []
    },
    {
      "cell_type": "code",
      "metadata": {
        "id": "NjiSEo6UOGHC",
        "colab_type": "code",
        "outputId": "417f90d8-b3f0-404e-c9da-28840ebf8df3",
        "colab": {
          "base_uri": "https://localhost:8080/",
          "height": 269
        }
      },
      "source": [
        "!pip install twython\n"
      ],
      "execution_count": 0,
      "outputs": [
        {
          "output_type": "stream",
          "text": [
            "Collecting twython\n",
            "  Downloading https://files.pythonhosted.org/packages/8c/2b/c0883f05b03a8e87787d56395d6c89515fe7e0bf80abd3778b6bb3a6873f/twython-3.7.0.tar.gz\n",
            "Requirement already satisfied: requests>=2.1.0 in /usr/local/lib/python3.6/dist-packages (from twython) (2.21.0)\n",
            "Requirement already satisfied: requests_oauthlib>=0.4.0 in /usr/local/lib/python3.6/dist-packages (from twython) (1.2.0)\n",
            "Requirement already satisfied: idna<2.9,>=2.5 in /usr/local/lib/python3.6/dist-packages (from requests>=2.1.0->twython) (2.8)\n",
            "Requirement already satisfied: chardet<3.1.0,>=3.0.2 in /usr/local/lib/python3.6/dist-packages (from requests>=2.1.0->twython) (3.0.4)\n",
            "Requirement already satisfied: certifi>=2017.4.17 in /usr/local/lib/python3.6/dist-packages (from requests>=2.1.0->twython) (2019.3.9)\n",
            "Requirement already satisfied: urllib3<1.25,>=1.21.1 in /usr/local/lib/python3.6/dist-packages (from requests>=2.1.0->twython) (1.24.3)\n",
            "Requirement already satisfied: oauthlib>=3.0.0 in /usr/local/lib/python3.6/dist-packages (from requests_oauthlib>=0.4.0->twython) (3.0.1)\n",
            "Building wheels for collected packages: twython\n",
            "  Building wheel for twython (setup.py) ... \u001b[?25l\u001b[?25hdone\n",
            "  Stored in directory: /root/.cache/pip/wheels/c2/b0/a3/5c4b4b87b8c9e4d99f1494a0b471f0134a74e5fb33d426d009\n",
            "Successfully built twython\n",
            "Installing collected packages: twython\n",
            "Successfully installed twython-3.7.0\n"
          ],
          "name": "stdout"
        }
      ]
    },
    {
      "cell_type": "code",
      "metadata": {
        "id": "E7rHYN3jKk0U",
        "colab_type": "code",
        "colab": {}
      },
      "source": [
        "import tweepy\n",
        "import pandas as pd\n",
        "from nltk.sentiment.vader import SentimentIntensityAnalyzer\n"
      ],
      "execution_count": 0,
      "outputs": []
    },
    {
      "cell_type": "code",
      "metadata": {
        "id": "NMkr8iP7NjL7",
        "colab_type": "code",
        "colab": {}
      },
      "source": [
        "consumer_key = 'mZzqSE5hQUpD1BbldOjSvKYgm'\n",
        "consumer_secret = 'PRX9qGgiu2r3jT6kCzYoaLETrjzlrEiTVAV2reuGOcM10C0OY3'\n",
        "access_token = '171048562-LzD2HKei2whpHECIP2sxeu2Qj0M5bNH65rduAdgR'\n",
        "access_token_secret = 'Z2LMsRn1fR7jM8syn8bbTCLESZqVBtbt20z0po4WAgC70'"
      ],
      "execution_count": 0,
      "outputs": []
    },
    {
      "cell_type": "code",
      "metadata": {
        "id": "uQiBsNUHOhkQ",
        "colab_type": "code",
        "colab": {}
      },
      "source": [
        "auth = tweepy.OAuthHandler(consumer_key, consumer_secret) \n",
        "auth.set_access_token(access_token, access_token_secret) \n",
        "api = tweepy.API(auth) \n",
        "\n"
      ],
      "execution_count": 0,
      "outputs": []
    },
    {
      "cell_type": "code",
      "metadata": {
        "id": "yH4aPoDpRPhY",
        "colab_type": "code",
        "outputId": "f4e0b422-2a25-4830-d74c-cc905eb43327",
        "colab": {
          "base_uri": "https://localhost:8080/",
          "height": 360
        }
      },
      "source": [
        "tweets = api.search('European Elections', count=200)\n",
        "\n",
        "data = pd.DataFrame(data=[tweet.text for tweet in tweets], columns=['Tweets'])\n",
        "\n",
        "display(data.head(10))\n",
        "  \n",
        "print(tweets[3].created_at)"
      ],
      "execution_count": 0,
      "outputs": [
        {
          "output_type": "display_data",
          "data": {
            "text/html": [
              "<div>\n",
              "<style scoped>\n",
              "    .dataframe tbody tr th:only-of-type {\n",
              "        vertical-align: middle;\n",
              "    }\n",
              "\n",
              "    .dataframe tbody tr th {\n",
              "        vertical-align: top;\n",
              "    }\n",
              "\n",
              "    .dataframe thead th {\n",
              "        text-align: right;\n",
              "    }\n",
              "</style>\n",
              "<table border=\"1\" class=\"dataframe\">\n",
              "  <thead>\n",
              "    <tr style=\"text-align: right;\">\n",
              "      <th></th>\n",
              "      <th>Tweets</th>\n",
              "    </tr>\n",
              "  </thead>\n",
              "  <tbody>\n",
              "    <tr>\n",
              "      <th>0</th>\n",
              "      <td>RT @jacobinmag: “Neither Left nor Right” Helps...</td>\n",
              "    </tr>\n",
              "    <tr>\n",
              "      <th>1</th>\n",
              "      <td>RT @RitaPanahi: Astonishing. Brexit party didn...</td>\n",
              "    </tr>\n",
              "    <tr>\n",
              "      <th>2</th>\n",
              "      <td>RT @jacobinmag: “Neither Left nor Right” Helps...</td>\n",
              "    </tr>\n",
              "    <tr>\n",
              "      <th>3</th>\n",
              "      <td>RT @TheEconomist: The European elections saw B...</td>\n",
              "    </tr>\n",
              "    <tr>\n",
              "      <th>4</th>\n",
              "      <td>RT @reuterspictures: A 'yellow vest' protester...</td>\n",
              "    </tr>\n",
              "    <tr>\n",
              "      <th>5</th>\n",
              "      <td>RT @TheRedRoar: WATCH: Sadiq Khan tells Corbyn...</td>\n",
              "    </tr>\n",
              "    <tr>\n",
              "      <th>6</th>\n",
              "      <td>RT @mojos55: Gerard Batten quits as Ukip leade...</td>\n",
              "    </tr>\n",
              "    <tr>\n",
              "      <th>7</th>\n",
              "      <td>RT @KarenLeeMP: 'Go home!': Brexit Party suppo...</td>\n",
              "    </tr>\n",
              "    <tr>\n",
              "      <th>8</th>\n",
              "      <td>#Ukip leader #GerardBatten #resigns https://t....</td>\n",
              "    </tr>\n",
              "    <tr>\n",
              "      <th>9</th>\n",
              "      <td>RT @TiceRichard: Just been on #Marr to talk👇\\n...</td>\n",
              "    </tr>\n",
              "  </tbody>\n",
              "</table>\n",
              "</div>"
            ],
            "text/plain": [
              "                                              Tweets\n",
              "0  RT @jacobinmag: “Neither Left nor Right” Helps...\n",
              "1  RT @RitaPanahi: Astonishing. Brexit party didn...\n",
              "2  RT @jacobinmag: “Neither Left nor Right” Helps...\n",
              "3  RT @TheEconomist: The European elections saw B...\n",
              "4  RT @reuterspictures: A 'yellow vest' protester...\n",
              "5  RT @TheRedRoar: WATCH: Sadiq Khan tells Corbyn...\n",
              "6  RT @mojos55: Gerard Batten quits as Ukip leade...\n",
              "7  RT @KarenLeeMP: 'Go home!': Brexit Party suppo...\n",
              "8  #Ukip leader #GerardBatten #resigns https://t....\n",
              "9  RT @TiceRichard: Just been on #Marr to talk👇\\n..."
            ]
          },
          "metadata": {
            "tags": []
          }
        },
        {
          "output_type": "stream",
          "text": [
            "2019-06-02 18:14:19\n"
          ],
          "name": "stdout"
        }
      ]
    },
    {
      "cell_type": "code",
      "metadata": {
        "id": "_RqdaKe9PHpN",
        "colab_type": "code",
        "outputId": "9dd37fae-9c92-4c91-8a45-c5b65cf83bce",
        "colab": {
          "base_uri": "https://localhost:8080/",
          "height": 67
        }
      },
      "source": [
        "import nltk\n",
        "nltk.download('vader_lexicon')"
      ],
      "execution_count": 0,
      "outputs": [
        {
          "output_type": "stream",
          "text": [
            "[nltk_data] Downloading package vader_lexicon to /root/nltk_data...\n",
            "[nltk_data]   Package vader_lexicon is already up-to-date!\n"
          ],
          "name": "stdout"
        },
        {
          "output_type": "execute_result",
          "data": {
            "text/plain": [
              "True"
            ]
          },
          "metadata": {
            "tags": []
          },
          "execution_count": 22
        }
      ]
    },
    {
      "cell_type": "code",
      "metadata": {
        "id": "coRuIOyESYxQ",
        "colab_type": "code",
        "outputId": "863380b1-45d4-4d11-c2f0-8323eba2d83b",
        "colab": {
          "base_uri": "https://localhost:8080/",
          "height": 1882
        }
      },
      "source": [
        "sid = SentimentIntensityAnalyzer()\n",
        "\n",
        "\n",
        "listy = []\n",
        "\n",
        "for index, row in data.iterrows():\n",
        "  ss = sid.polarity_scores(row[\"Tweets\"])\n",
        "  listy.append(ss)\n",
        "  \n",
        "se = pd.Series(listy)\n",
        "data['polarity'] = se.values\n",
        "\n",
        "display(data.head(250))\n",
        "\n"
      ],
      "execution_count": 0,
      "outputs": [
        {
          "output_type": "display_data",
          "data": {
            "text/html": [
              "<div>\n",
              "<style scoped>\n",
              "    .dataframe tbody tr th:only-of-type {\n",
              "        vertical-align: middle;\n",
              "    }\n",
              "\n",
              "    .dataframe tbody tr th {\n",
              "        vertical-align: top;\n",
              "    }\n",
              "\n",
              "    .dataframe thead th {\n",
              "        text-align: right;\n",
              "    }\n",
              "</style>\n",
              "<table border=\"1\" class=\"dataframe\">\n",
              "  <thead>\n",
              "    <tr style=\"text-align: right;\">\n",
              "      <th></th>\n",
              "      <th>Tweets</th>\n",
              "      <th>polarity</th>\n",
              "    </tr>\n",
              "  </thead>\n",
              "  <tbody>\n",
              "    <tr>\n",
              "      <th>0</th>\n",
              "      <td>RT @jacobinmag: “Neither Left nor Right” Helps...</td>\n",
              "      <td>{'neg': 0.179, 'neu': 0.821, 'pos': 0.0, 'comp...</td>\n",
              "    </tr>\n",
              "    <tr>\n",
              "      <th>1</th>\n",
              "      <td>RT @RitaPanahi: Astonishing. Brexit party didn...</td>\n",
              "      <td>{'neg': 0.0, 'neu': 0.766, 'pos': 0.234, 'comp...</td>\n",
              "    </tr>\n",
              "    <tr>\n",
              "      <th>2</th>\n",
              "      <td>RT @jacobinmag: “Neither Left nor Right” Helps...</td>\n",
              "      <td>{'neg': 0.179, 'neu': 0.821, 'pos': 0.0, 'comp...</td>\n",
              "    </tr>\n",
              "    <tr>\n",
              "      <th>3</th>\n",
              "      <td>RT @TheEconomist: The European elections saw B...</td>\n",
              "      <td>{'neg': 0.0, 'neu': 0.895, 'pos': 0.105, 'comp...</td>\n",
              "    </tr>\n",
              "    <tr>\n",
              "      <th>4</th>\n",
              "      <td>RT @reuterspictures: A 'yellow vest' protester...</td>\n",
              "      <td>{'neg': 0.124, 'neu': 0.876, 'pos': 0.0, 'comp...</td>\n",
              "    </tr>\n",
              "    <tr>\n",
              "      <th>5</th>\n",
              "      <td>RT @TheRedRoar: WATCH: Sadiq Khan tells Corbyn...</td>\n",
              "      <td>{'neg': 0.125, 'neu': 0.875, 'pos': 0.0, 'comp...</td>\n",
              "    </tr>\n",
              "    <tr>\n",
              "      <th>6</th>\n",
              "      <td>RT @mojos55: Gerard Batten quits as Ukip leade...</td>\n",
              "      <td>{'neg': 0.133, 'neu': 0.867, 'pos': 0.0, 'comp...</td>\n",
              "    </tr>\n",
              "    <tr>\n",
              "      <th>7</th>\n",
              "      <td>RT @KarenLeeMP: 'Go home!': Brexit Party suppo...</td>\n",
              "      <td>{'neg': 0.0, 'neu': 0.604, 'pos': 0.396, 'comp...</td>\n",
              "    </tr>\n",
              "    <tr>\n",
              "      <th>8</th>\n",
              "      <td>#Ukip leader #GerardBatten #resigns https://t....</td>\n",
              "      <td>{'neg': 0.0, 'neu': 1.0, 'pos': 0.0, 'compound...</td>\n",
              "    </tr>\n",
              "    <tr>\n",
              "      <th>9</th>\n",
              "      <td>RT @TiceRichard: Just been on #Marr to talk👇\\n...</td>\n",
              "      <td>{'neg': 0.0, 'neu': 0.673, 'pos': 0.327, 'comp...</td>\n",
              "    </tr>\n",
              "    <tr>\n",
              "      <th>10</th>\n",
              "      <td>RT @TiceRichard: Just been on #Marr to talk👇\\n...</td>\n",
              "      <td>{'neg': 0.0, 'neu': 0.673, 'pos': 0.327, 'comp...</td>\n",
              "    </tr>\n",
              "    <tr>\n",
              "      <th>11</th>\n",
              "      <td>@kmflett Peterborough has many 2nd/3rd generat...</td>\n",
              "      <td>{'neg': 0.0, 'neu': 0.896, 'pos': 0.104, 'comp...</td>\n",
              "    </tr>\n",
              "    <tr>\n",
              "      <th>12</th>\n",
              "      <td>@MartinDaubney\\n\\nWhat is your solution for th...</td>\n",
              "      <td>{'neg': 0.0, 'neu': 0.714, 'pos': 0.286, 'comp...</td>\n",
              "    </tr>\n",
              "    <tr>\n",
              "      <th>13</th>\n",
              "      <td>RT @TheEconomist: The European elections saw B...</td>\n",
              "      <td>{'neg': 0.0, 'neu': 0.895, 'pos': 0.105, 'comp...</td>\n",
              "    </tr>\n",
              "    <tr>\n",
              "      <th>14</th>\n",
              "      <td>@Femi_Sorry Or\\nAll here \\nThe voting system f...</td>\n",
              "      <td>{'neg': 0.0, 'neu': 1.0, 'pos': 0.0, 'compound...</td>\n",
              "    </tr>\n",
              "    <tr>\n",
              "      <th>15</th>\n",
              "      <td>RT @TiceRichard: Just been on #Marr to talk👇\\n...</td>\n",
              "      <td>{'neg': 0.0, 'neu': 0.673, 'pos': 0.327, 'comp...</td>\n",
              "    </tr>\n",
              "    <tr>\n",
              "      <th>16</th>\n",
              "      <td>RT @mojos55: Gerard Batten quits as Ukip leade...</td>\n",
              "      <td>{'neg': 0.133, 'neu': 0.867, 'pos': 0.0, 'comp...</td>\n",
              "    </tr>\n",
              "    <tr>\n",
              "      <th>17</th>\n",
              "      <td>RT @RitaPanahi: Astonishing. Brexit party didn...</td>\n",
              "      <td>{'neg': 0.0, 'neu': 0.766, 'pos': 0.234, 'comp...</td>\n",
              "    </tr>\n",
              "    <tr>\n",
              "      <th>18</th>\n",
              "      <td>RT @TheEconomist: The European elections saw B...</td>\n",
              "      <td>{'neg': 0.0, 'neu': 0.895, 'pos': 0.105, 'comp...</td>\n",
              "    </tr>\n",
              "    <tr>\n",
              "      <th>19</th>\n",
              "      <td>RT @elnacionalcatEN: \"We ask you to act urgent...</td>\n",
              "      <td>{'neg': 0.0, 'neu': 0.876, 'pos': 0.124, 'comp...</td>\n",
              "    </tr>\n",
              "    <tr>\n",
              "      <th>20</th>\n",
              "      <td>RT @mojos55: Gerard Batten quits as Ukip leade...</td>\n",
              "      <td>{'neg': 0.133, 'neu': 0.867, 'pos': 0.0, 'comp...</td>\n",
              "    </tr>\n",
              "    <tr>\n",
              "      <th>21</th>\n",
              "      <td>RT @TiceRichard: Just been on #Marr to talk👇\\n...</td>\n",
              "      <td>{'neg': 0.0, 'neu': 0.673, 'pos': 0.327, 'comp...</td>\n",
              "    </tr>\n",
              "    <tr>\n",
              "      <th>22</th>\n",
              "      <td>RT @qikipedia: In the recent European Election...</td>\n",
              "      <td>{'neg': 0.0, 'neu': 0.895, 'pos': 0.105, 'comp...</td>\n",
              "    </tr>\n",
              "    <tr>\n",
              "      <th>23</th>\n",
              "      <td>@guardian Well tbf, we always had the national...</td>\n",
              "      <td>{'neg': 0.0, 'neu': 0.742, 'pos': 0.258, 'comp...</td>\n",
              "    </tr>\n",
              "    <tr>\n",
              "      <th>24</th>\n",
              "      <td>RT @brightgrn: After @TheGreenParty won a reco...</td>\n",
              "      <td>{'neg': 0.0, 'neu': 0.821, 'pos': 0.179, 'comp...</td>\n",
              "    </tr>\n",
              "    <tr>\n",
              "      <th>25</th>\n",
              "      <td>RT @GeorgeMonbiot: When you look at the detail...</td>\n",
              "      <td>{'neg': 0.0, 'neu': 0.704, 'pos': 0.296, 'comp...</td>\n",
              "    </tr>\n",
              "    <tr>\n",
              "      <th>26</th>\n",
              "      <td>RT @BrexposedU: @Simon4NDorset @sajidjavid Did...</td>\n",
              "      <td>{'neg': 0.0, 'neu': 0.669, 'pos': 0.331, 'comp...</td>\n",
              "    </tr>\n",
              "    <tr>\n",
              "      <th>27</th>\n",
              "      <td>RT @brightgrn: After @TheGreenParty won a reco...</td>\n",
              "      <td>{'neg': 0.0, 'neu': 0.821, 'pos': 0.179, 'comp...</td>\n",
              "    </tr>\n",
              "    <tr>\n",
              "      <th>28</th>\n",
              "      <td>RT @RitaPanahi: Astonishing. Brexit party didn...</td>\n",
              "      <td>{'neg': 0.0, 'neu': 0.766, 'pos': 0.234, 'comp...</td>\n",
              "    </tr>\n",
              "    <tr>\n",
              "      <th>29</th>\n",
              "      <td>https://t.co/hWkhAvz3ax https://t.co/hWkhAvz3ax</td>\n",
              "      <td>{'neg': 0.0, 'neu': 1.0, 'pos': 0.0, 'compound...</td>\n",
              "    </tr>\n",
              "    <tr>\n",
              "      <th>...</th>\n",
              "      <td>...</td>\n",
              "      <td>...</td>\n",
              "    </tr>\n",
              "    <tr>\n",
              "      <th>52</th>\n",
              "      <td>RT @BumperGraham: The latest ⁦@GeoffNorcott⁩ p...</td>\n",
              "      <td>{'neg': 0.0, 'neu': 0.892, 'pos': 0.108, 'comp...</td>\n",
              "    </tr>\n",
              "    <tr>\n",
              "      <th>53</th>\n",
              "      <td>RT @mojos55: Gerard Batten quits as Ukip leade...</td>\n",
              "      <td>{'neg': 0.133, 'neu': 0.867, 'pos': 0.0, 'comp...</td>\n",
              "    </tr>\n",
              "    <tr>\n",
              "      <th>54</th>\n",
              "      <td>RT @TheEconomist: The European elections saw B...</td>\n",
              "      <td>{'neg': 0.0, 'neu': 0.895, 'pos': 0.105, 'comp...</td>\n",
              "    </tr>\n",
              "    <tr>\n",
              "      <th>55</th>\n",
              "      <td>@sazmeister88 @DevonianMatthew Disastrous for ...</td>\n",
              "      <td>{'neg': 0.21, 'neu': 0.651, 'pos': 0.139, 'com...</td>\n",
              "    </tr>\n",
              "    <tr>\n",
              "      <th>56</th>\n",
              "      <td>RT @TiceRichard: Just been on #Marr to talk👇\\n...</td>\n",
              "      <td>{'neg': 0.0, 'neu': 0.673, 'pos': 0.327, 'comp...</td>\n",
              "    </tr>\n",
              "    <tr>\n",
              "      <th>57</th>\n",
              "      <td>RT @TheEconomist: The European elections saw B...</td>\n",
              "      <td>{'neg': 0.0, 'neu': 0.895, 'pos': 0.105, 'comp...</td>\n",
              "    </tr>\n",
              "    <tr>\n",
              "      <th>58</th>\n",
              "      <td>RT @RitaPanahi: Astonishing. Brexit party didn...</td>\n",
              "      <td>{'neg': 0.0, 'neu': 0.766, 'pos': 0.234, 'comp...</td>\n",
              "    </tr>\n",
              "    <tr>\n",
              "      <th>59</th>\n",
              "      <td>RT @TiceRichard: Just been on #Marr to talk👇\\n...</td>\n",
              "      <td>{'neg': 0.0, 'neu': 0.673, 'pos': 0.327, 'comp...</td>\n",
              "    </tr>\n",
              "    <tr>\n",
              "      <th>60</th>\n",
              "      <td>RT @TiceRichard: Just been on #Marr to talk👇\\n...</td>\n",
              "      <td>{'neg': 0.0, 'neu': 0.673, 'pos': 0.327, 'comp...</td>\n",
              "    </tr>\n",
              "    <tr>\n",
              "      <th>61</th>\n",
              "      <td>EU Elections: Was Brexit the Beginning of the ...</td>\n",
              "      <td>{'neg': 0.0, 'neu': 1.0, 'pos': 0.0, 'compound...</td>\n",
              "    </tr>\n",
              "    <tr>\n",
              "      <th>62</th>\n",
              "      <td>@Emilio_SanPedro @DemouKratos @bbcworldservice...</td>\n",
              "      <td>{'neg': 0.0, 'neu': 0.838, 'pos': 0.162, 'comp...</td>\n",
              "    </tr>\n",
              "    <tr>\n",
              "      <th>63</th>\n",
              "      <td>RT @RitaPanahi: Astonishing. Brexit party didn...</td>\n",
              "      <td>{'neg': 0.0, 'neu': 0.766, 'pos': 0.234, 'comp...</td>\n",
              "    </tr>\n",
              "    <tr>\n",
              "      <th>64</th>\n",
              "      <td>RT @TheEconomist: The European elections saw B...</td>\n",
              "      <td>{'neg': 0.0, 'neu': 0.895, 'pos': 0.105, 'comp...</td>\n",
              "    </tr>\n",
              "    <tr>\n",
              "      <th>65</th>\n",
              "      <td>RT @RitaPanahi: Astonishing. Brexit party didn...</td>\n",
              "      <td>{'neg': 0.0, 'neu': 0.766, 'pos': 0.234, 'comp...</td>\n",
              "    </tr>\n",
              "    <tr>\n",
              "      <th>66</th>\n",
              "      <td>RT @ByDonkeys: \"This is about more than Brexit...</td>\n",
              "      <td>{'neg': 0.0, 'neu': 1.0, 'pos': 0.0, 'compound...</td>\n",
              "    </tr>\n",
              "    <tr>\n",
              "      <th>67</th>\n",
              "      <td>RT @KarenLeeMP: 'Go home!': Brexit Party suppo...</td>\n",
              "      <td>{'neg': 0.0, 'neu': 0.604, 'pos': 0.396, 'comp...</td>\n",
              "    </tr>\n",
              "    <tr>\n",
              "      <th>68</th>\n",
              "      <td>RT @TiceRichard: Just been on #Marr to talk👇\\n...</td>\n",
              "      <td>{'neg': 0.0, 'neu': 0.673, 'pos': 0.327, 'comp...</td>\n",
              "    </tr>\n",
              "    <tr>\n",
              "      <th>69</th>\n",
              "      <td>RT @DupIoH: European Parliament elections. Wha...</td>\n",
              "      <td>{'neg': 0.13, 'neu': 0.629, 'pos': 0.241, 'com...</td>\n",
              "    </tr>\n",
              "    <tr>\n",
              "      <th>70</th>\n",
              "      <td>RT @PiratesForIndy: Ruth Davidson has now lost...</td>\n",
              "      <td>{'neg': 0.108, 'neu': 0.892, 'pos': 0.0, 'comp...</td>\n",
              "    </tr>\n",
              "    <tr>\n",
              "      <th>71</th>\n",
              "      <td>The European elections saw Britain's centre sq...</td>\n",
              "      <td>{'neg': 0.0, 'neu': 0.882, 'pos': 0.118, 'comp...</td>\n",
              "    </tr>\n",
              "    <tr>\n",
              "      <th>72</th>\n",
              "      <td>RT @RitaPanahi: Astonishing. Brexit party didn...</td>\n",
              "      <td>{'neg': 0.0, 'neu': 0.766, 'pos': 0.234, 'comp...</td>\n",
              "    </tr>\n",
              "    <tr>\n",
              "      <th>73</th>\n",
              "      <td>'Go home!': Brexit Party supporters heckle Bri...</td>\n",
              "      <td>{'neg': 0.0, 'neu': 0.543, 'pos': 0.457, 'comp...</td>\n",
              "    </tr>\n",
              "    <tr>\n",
              "      <th>74</th>\n",
              "      <td>RT @mojos55: Gerard Batten quits as Ukip leade...</td>\n",
              "      <td>{'neg': 0.133, 'neu': 0.867, 'pos': 0.0, 'comp...</td>\n",
              "    </tr>\n",
              "    <tr>\n",
              "      <th>75</th>\n",
              "      <td>RT @mojos55: Gerard Batten quits as Ukip leade...</td>\n",
              "      <td>{'neg': 0.133, 'neu': 0.867, 'pos': 0.0, 'comp...</td>\n",
              "    </tr>\n",
              "    <tr>\n",
              "      <th>76</th>\n",
              "      <td>RT @RitaPanahi: Astonishing. Brexit party didn...</td>\n",
              "      <td>{'neg': 0.0, 'neu': 0.766, 'pos': 0.234, 'comp...</td>\n",
              "    </tr>\n",
              "    <tr>\n",
              "      <th>77</th>\n",
              "      <td>Revealed: Cherie Blair voted Lib Dem in Europe...</td>\n",
              "      <td>{'neg': 0.0, 'neu': 1.0, 'pos': 0.0, 'compound...</td>\n",
              "    </tr>\n",
              "    <tr>\n",
              "      <th>78</th>\n",
              "      <td>Spoiler Alert. This is published in the Guardi...</td>\n",
              "      <td>{'neg': 0.118, 'neu': 0.786, 'pos': 0.096, 'co...</td>\n",
              "    </tr>\n",
              "    <tr>\n",
              "      <th>79</th>\n",
              "      <td>RT @STUinSD: 4C. While the election outcome do...</td>\n",
              "      <td>{'neg': 0.0, 'neu': 1.0, 'pos': 0.0, 'compound...</td>\n",
              "    </tr>\n",
              "    <tr>\n",
              "      <th>80</th>\n",
              "      <td>RT @STUinSD: 3A. Le Pen’s National Rally, rebr...</td>\n",
              "      <td>{'neg': 0.0, 'neu': 0.895, 'pos': 0.105, 'comp...</td>\n",
              "    </tr>\n",
              "    <tr>\n",
              "      <th>81</th>\n",
              "      <td>RT @RitaPanahi: Astonishing. Brexit party didn...</td>\n",
              "      <td>{'neg': 0.0, 'neu': 0.766, 'pos': 0.234, 'comp...</td>\n",
              "    </tr>\n",
              "  </tbody>\n",
              "</table>\n",
              "<p>82 rows × 2 columns</p>\n",
              "</div>"
            ],
            "text/plain": [
              "                                               Tweets                                           polarity\n",
              "0   RT @jacobinmag: “Neither Left nor Right” Helps...  {'neg': 0.179, 'neu': 0.821, 'pos': 0.0, 'comp...\n",
              "1   RT @RitaPanahi: Astonishing. Brexit party didn...  {'neg': 0.0, 'neu': 0.766, 'pos': 0.234, 'comp...\n",
              "2   RT @jacobinmag: “Neither Left nor Right” Helps...  {'neg': 0.179, 'neu': 0.821, 'pos': 0.0, 'comp...\n",
              "3   RT @TheEconomist: The European elections saw B...  {'neg': 0.0, 'neu': 0.895, 'pos': 0.105, 'comp...\n",
              "4   RT @reuterspictures: A 'yellow vest' protester...  {'neg': 0.124, 'neu': 0.876, 'pos': 0.0, 'comp...\n",
              "5   RT @TheRedRoar: WATCH: Sadiq Khan tells Corbyn...  {'neg': 0.125, 'neu': 0.875, 'pos': 0.0, 'comp...\n",
              "6   RT @mojos55: Gerard Batten quits as Ukip leade...  {'neg': 0.133, 'neu': 0.867, 'pos': 0.0, 'comp...\n",
              "7   RT @KarenLeeMP: 'Go home!': Brexit Party suppo...  {'neg': 0.0, 'neu': 0.604, 'pos': 0.396, 'comp...\n",
              "8   #Ukip leader #GerardBatten #resigns https://t....  {'neg': 0.0, 'neu': 1.0, 'pos': 0.0, 'compound...\n",
              "9   RT @TiceRichard: Just been on #Marr to talk👇\\n...  {'neg': 0.0, 'neu': 0.673, 'pos': 0.327, 'comp...\n",
              "10  RT @TiceRichard: Just been on #Marr to talk👇\\n...  {'neg': 0.0, 'neu': 0.673, 'pos': 0.327, 'comp...\n",
              "11  @kmflett Peterborough has many 2nd/3rd generat...  {'neg': 0.0, 'neu': 0.896, 'pos': 0.104, 'comp...\n",
              "12  @MartinDaubney\\n\\nWhat is your solution for th...  {'neg': 0.0, 'neu': 0.714, 'pos': 0.286, 'comp...\n",
              "13  RT @TheEconomist: The European elections saw B...  {'neg': 0.0, 'neu': 0.895, 'pos': 0.105, 'comp...\n",
              "14  @Femi_Sorry Or\\nAll here \\nThe voting system f...  {'neg': 0.0, 'neu': 1.0, 'pos': 0.0, 'compound...\n",
              "15  RT @TiceRichard: Just been on #Marr to talk👇\\n...  {'neg': 0.0, 'neu': 0.673, 'pos': 0.327, 'comp...\n",
              "16  RT @mojos55: Gerard Batten quits as Ukip leade...  {'neg': 0.133, 'neu': 0.867, 'pos': 0.0, 'comp...\n",
              "17  RT @RitaPanahi: Astonishing. Brexit party didn...  {'neg': 0.0, 'neu': 0.766, 'pos': 0.234, 'comp...\n",
              "18  RT @TheEconomist: The European elections saw B...  {'neg': 0.0, 'neu': 0.895, 'pos': 0.105, 'comp...\n",
              "19  RT @elnacionalcatEN: \"We ask you to act urgent...  {'neg': 0.0, 'neu': 0.876, 'pos': 0.124, 'comp...\n",
              "20  RT @mojos55: Gerard Batten quits as Ukip leade...  {'neg': 0.133, 'neu': 0.867, 'pos': 0.0, 'comp...\n",
              "21  RT @TiceRichard: Just been on #Marr to talk👇\\n...  {'neg': 0.0, 'neu': 0.673, 'pos': 0.327, 'comp...\n",
              "22  RT @qikipedia: In the recent European Election...  {'neg': 0.0, 'neu': 0.895, 'pos': 0.105, 'comp...\n",
              "23  @guardian Well tbf, we always had the national...  {'neg': 0.0, 'neu': 0.742, 'pos': 0.258, 'comp...\n",
              "24  RT @brightgrn: After @TheGreenParty won a reco...  {'neg': 0.0, 'neu': 0.821, 'pos': 0.179, 'comp...\n",
              "25  RT @GeorgeMonbiot: When you look at the detail...  {'neg': 0.0, 'neu': 0.704, 'pos': 0.296, 'comp...\n",
              "26  RT @BrexposedU: @Simon4NDorset @sajidjavid Did...  {'neg': 0.0, 'neu': 0.669, 'pos': 0.331, 'comp...\n",
              "27  RT @brightgrn: After @TheGreenParty won a reco...  {'neg': 0.0, 'neu': 0.821, 'pos': 0.179, 'comp...\n",
              "28  RT @RitaPanahi: Astonishing. Brexit party didn...  {'neg': 0.0, 'neu': 0.766, 'pos': 0.234, 'comp...\n",
              "29    https://t.co/hWkhAvz3ax https://t.co/hWkhAvz3ax  {'neg': 0.0, 'neu': 1.0, 'pos': 0.0, 'compound...\n",
              "..                                                ...                                                ...\n",
              "52  RT @BumperGraham: The latest ⁦@GeoffNorcott⁩ p...  {'neg': 0.0, 'neu': 0.892, 'pos': 0.108, 'comp...\n",
              "53  RT @mojos55: Gerard Batten quits as Ukip leade...  {'neg': 0.133, 'neu': 0.867, 'pos': 0.0, 'comp...\n",
              "54  RT @TheEconomist: The European elections saw B...  {'neg': 0.0, 'neu': 0.895, 'pos': 0.105, 'comp...\n",
              "55  @sazmeister88 @DevonianMatthew Disastrous for ...  {'neg': 0.21, 'neu': 0.651, 'pos': 0.139, 'com...\n",
              "56  RT @TiceRichard: Just been on #Marr to talk👇\\n...  {'neg': 0.0, 'neu': 0.673, 'pos': 0.327, 'comp...\n",
              "57  RT @TheEconomist: The European elections saw B...  {'neg': 0.0, 'neu': 0.895, 'pos': 0.105, 'comp...\n",
              "58  RT @RitaPanahi: Astonishing. Brexit party didn...  {'neg': 0.0, 'neu': 0.766, 'pos': 0.234, 'comp...\n",
              "59  RT @TiceRichard: Just been on #Marr to talk👇\\n...  {'neg': 0.0, 'neu': 0.673, 'pos': 0.327, 'comp...\n",
              "60  RT @TiceRichard: Just been on #Marr to talk👇\\n...  {'neg': 0.0, 'neu': 0.673, 'pos': 0.327, 'comp...\n",
              "61  EU Elections: Was Brexit the Beginning of the ...  {'neg': 0.0, 'neu': 1.0, 'pos': 0.0, 'compound...\n",
              "62  @Emilio_SanPedro @DemouKratos @bbcworldservice...  {'neg': 0.0, 'neu': 0.838, 'pos': 0.162, 'comp...\n",
              "63  RT @RitaPanahi: Astonishing. Brexit party didn...  {'neg': 0.0, 'neu': 0.766, 'pos': 0.234, 'comp...\n",
              "64  RT @TheEconomist: The European elections saw B...  {'neg': 0.0, 'neu': 0.895, 'pos': 0.105, 'comp...\n",
              "65  RT @RitaPanahi: Astonishing. Brexit party didn...  {'neg': 0.0, 'neu': 0.766, 'pos': 0.234, 'comp...\n",
              "66  RT @ByDonkeys: \"This is about more than Brexit...  {'neg': 0.0, 'neu': 1.0, 'pos': 0.0, 'compound...\n",
              "67  RT @KarenLeeMP: 'Go home!': Brexit Party suppo...  {'neg': 0.0, 'neu': 0.604, 'pos': 0.396, 'comp...\n",
              "68  RT @TiceRichard: Just been on #Marr to talk👇\\n...  {'neg': 0.0, 'neu': 0.673, 'pos': 0.327, 'comp...\n",
              "69  RT @DupIoH: European Parliament elections. Wha...  {'neg': 0.13, 'neu': 0.629, 'pos': 0.241, 'com...\n",
              "70  RT @PiratesForIndy: Ruth Davidson has now lost...  {'neg': 0.108, 'neu': 0.892, 'pos': 0.0, 'comp...\n",
              "71  The European elections saw Britain's centre sq...  {'neg': 0.0, 'neu': 0.882, 'pos': 0.118, 'comp...\n",
              "72  RT @RitaPanahi: Astonishing. Brexit party didn...  {'neg': 0.0, 'neu': 0.766, 'pos': 0.234, 'comp...\n",
              "73  'Go home!': Brexit Party supporters heckle Bri...  {'neg': 0.0, 'neu': 0.543, 'pos': 0.457, 'comp...\n",
              "74  RT @mojos55: Gerard Batten quits as Ukip leade...  {'neg': 0.133, 'neu': 0.867, 'pos': 0.0, 'comp...\n",
              "75  RT @mojos55: Gerard Batten quits as Ukip leade...  {'neg': 0.133, 'neu': 0.867, 'pos': 0.0, 'comp...\n",
              "76  RT @RitaPanahi: Astonishing. Brexit party didn...  {'neg': 0.0, 'neu': 0.766, 'pos': 0.234, 'comp...\n",
              "77  Revealed: Cherie Blair voted Lib Dem in Europe...  {'neg': 0.0, 'neu': 1.0, 'pos': 0.0, 'compound...\n",
              "78  Spoiler Alert. This is published in the Guardi...  {'neg': 0.118, 'neu': 0.786, 'pos': 0.096, 'co...\n",
              "79  RT @STUinSD: 4C. While the election outcome do...  {'neg': 0.0, 'neu': 1.0, 'pos': 0.0, 'compound...\n",
              "80  RT @STUinSD: 3A. Le Pen’s National Rally, rebr...  {'neg': 0.0, 'neu': 0.895, 'pos': 0.105, 'comp...\n",
              "81  RT @RitaPanahi: Astonishing. Brexit party didn...  {'neg': 0.0, 'neu': 0.766, 'pos': 0.234, 'comp...\n",
              "\n",
              "[82 rows x 2 columns]"
            ]
          },
          "metadata": {
            "tags": []
          }
        }
      ]
    },
    {
      "cell_type": "code",
      "metadata": {
        "id": "lxozVYsIY8ic",
        "colab_type": "code",
        "colab": {}
      },
      "source": [
        "import pandas as pd\n",
        "df = pd.DataFrame(data, columns= ['Tweets', 'Polarity'])\n",
        "df.to_csv(r'C:\\Users\\banup\\Desktop\\doodiiiiiie.csv')\n"
      ],
      "execution_count": 0,
      "outputs": []
    },
    {
      "cell_type": "code",
      "metadata": {
        "id": "dkOVFpRE__pu",
        "colab_type": "code",
        "outputId": "9704d5f9-4689-4d7c-ff99-563422ae95e0",
        "colab": {
          "base_uri": "https://localhost:8080/",
          "height": 229
        }
      },
      "source": [
        "  import csv\n",
        "with open('twitter_sentiment_analysis.csv', 'w', newline = '') as output:\n",
        "\n",
        "  fileOut = csv.writer(output)\n",
        "data = [['Tweets', 'Polarity']]\n",
        "for tweet in public_tweets:\n",
        "        analysis = TextBlob(tweet.text)\n",
        "        polarity = analysis.sentiment.polarity\n",
        "\n",
        "fileOut.writerows(data)"
      ],
      "execution_count": 0,
      "outputs": [
        {
          "output_type": "error",
          "ename": "NameError",
          "evalue": "ignored",
          "traceback": [
            "\u001b[0;31m---------------------------------------------------------------------------\u001b[0m",
            "\u001b[0;31mNameError\u001b[0m                                 Traceback (most recent call last)",
            "\u001b[0;32m<ipython-input-17-4ed6f557aea0>\u001b[0m in \u001b[0;36m<module>\u001b[0;34m()\u001b[0m\n\u001b[1;32m      4\u001b[0m   \u001b[0mfileOut\u001b[0m \u001b[0;34m=\u001b[0m \u001b[0mcsv\u001b[0m\u001b[0;34m.\u001b[0m\u001b[0mwriter\u001b[0m\u001b[0;34m(\u001b[0m\u001b[0moutput\u001b[0m\u001b[0;34m)\u001b[0m\u001b[0;34m\u001b[0m\u001b[0;34m\u001b[0m\u001b[0m\n\u001b[1;32m      5\u001b[0m \u001b[0mdata\u001b[0m \u001b[0;34m=\u001b[0m \u001b[0;34m[\u001b[0m\u001b[0;34m[\u001b[0m\u001b[0;34m'Tweets'\u001b[0m\u001b[0;34m,\u001b[0m \u001b[0;34m'Polarity'\u001b[0m\u001b[0;34m]\u001b[0m\u001b[0;34m]\u001b[0m\u001b[0;34m\u001b[0m\u001b[0;34m\u001b[0m\u001b[0m\n\u001b[0;32m----> 6\u001b[0;31m \u001b[0;32mfor\u001b[0m \u001b[0mtweet\u001b[0m \u001b[0;32min\u001b[0m \u001b[0mpublic_tweets\u001b[0m\u001b[0;34m:\u001b[0m\u001b[0;34m\u001b[0m\u001b[0;34m\u001b[0m\u001b[0m\n\u001b[0m\u001b[1;32m      7\u001b[0m         \u001b[0manalysis\u001b[0m \u001b[0;34m=\u001b[0m \u001b[0mTextBlob\u001b[0m\u001b[0;34m(\u001b[0m\u001b[0mtweet\u001b[0m\u001b[0;34m.\u001b[0m\u001b[0mtext\u001b[0m\u001b[0;34m)\u001b[0m\u001b[0;34m\u001b[0m\u001b[0;34m\u001b[0m\u001b[0m\n\u001b[1;32m      8\u001b[0m         \u001b[0mpolarity\u001b[0m \u001b[0;34m=\u001b[0m \u001b[0manalysis\u001b[0m\u001b[0;34m.\u001b[0m\u001b[0msentiment\u001b[0m\u001b[0;34m.\u001b[0m\u001b[0mpolarity\u001b[0m\u001b[0;34m\u001b[0m\u001b[0;34m\u001b[0m\u001b[0m\n",
            "\u001b[0;31mNameError\u001b[0m: name 'public_tweets' is not defined"
          ]
        }
      ]
    },
    {
      "cell_type": "code",
      "metadata": {
        "id": "GvzbkSDeScZk",
        "colab_type": "code",
        "colab": {}
      },
      "source": [
        "\n"
      ],
      "execution_count": 0,
      "outputs": []
    }
  ]
}